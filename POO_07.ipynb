{
  "nbformat": 4,
  "nbformat_minor": 0,
  "metadata": {
    "colab": {
      "provenance": []
    },
    "kernelspec": {
      "name": "python3",
      "display_name": "Python 3"
    },
    "language_info": {
      "name": "python"
    }
  },
  "cells": [
    {
      "cell_type": "code",
      "execution_count": null,
      "metadata": {
        "colab": {
          "base_uri": "https://localhost:8080/"
        },
        "id": "2pfoO4IEcKJC",
        "outputId": "afc2e16d-5a3a-4855-b417-1229cb5da714"
      },
      "outputs": [
        {
          "output_type": "stream",
          "name": "stdout",
          "text": [
            "La letra es A\n"
          ]
        }
      ],
      "source": [
        "letra= \"A\"\n",
        "if letra==\"B\":\n",
        "  print(\"La letra es B\")\n",
        "elif letra==\"C\":\n",
        "  print(\"La letra es C\")\n",
        "elif letra==\"A\":\n",
        "  print(\"La letra es A\")\n",
        "else:\n",
        "  print(\"la letra no es A ni B ni C\")"
      ]
    },
    {
      "cell_type": "code",
      "source": [
        "numero=int(input(\"Escribe un numero: \"))\n"
      ],
      "metadata": {
        "colab": {
          "base_uri": "https://localhost:8080/"
        },
        "id": "4B23jVmNc_CY",
        "outputId": "e64a72a9-6fe5-499e-f40f-29e678e6522b"
      },
      "execution_count": null,
      "outputs": [
        {
          "name": "stdout",
          "output_type": "stream",
          "text": [
            "Escribe un numero: 6\n"
          ]
        }
      ]
    },
    {
      "cell_type": "code",
      "source": [
        "numero=int(input(\"Escribe un numero: \"))\n",
        "if numero % 2==0 and numero % 4 !=0:\n",
        "  print(f\"{numero} es multiplo de dos\")\n",
        "elif numero % 4 == 0:\n",
        "  print(f\"{numero} es multiplo de 4 y de 2\")\n",
        "else:\n",
        "  print(f\"{numero} no es multiplo de 2\")\n",
        "\n"
      ],
      "metadata": {
        "colab": {
          "base_uri": "https://localhost:8080/"
        },
        "id": "E4zoKeKBeAIk",
        "outputId": "b9459569-a661-4da6-d9e8-3349453d0d3c"
      },
      "execution_count": null,
      "outputs": [
        {
          "output_type": "stream",
          "name": "stdout",
          "text": [
            "Escribe un numero: 3456728\n",
            "3456728 es multiplo de 4 y de 2\n"
          ]
        }
      ]
    },
    {
      "cell_type": "code",
      "source": [
        "nombre=str(input(\"Escribe un nombre: \"))\n",
        "if nombre == \"Patricia\":\n",
        "  print(\"Patrica es un nombre disponible\")\n",
        "elif nombre== \"Ermenegildo\":\n",
        "  print(\"Ermenegildo es un nombre disponible\")\n",
        "else:\n",
        "  print(\"el nombre no esta disponible\")"
      ],
      "metadata": {
        "colab": {
          "base_uri": "https://localhost:8080/"
        },
        "id": "h9_up-C0gEAk",
        "outputId": "05491094-60b1-4ea8-da93-f97b20176d05"
      },
      "execution_count": null,
      "outputs": [
        {
          "output_type": "stream",
          "name": "stdout",
          "text": [
            "Escribe un nombre: Ermenegildo\n",
            "Ermenegildo es un nombre disponible\n"
          ]
        }
      ]
    },
    {
      "cell_type": "code",
      "source": [
        "class Mascota:\n",
        "  def hable(self):\n",
        "    return NotImplementedError\n",
        "class Perro(Mascota):\n",
        "  def hable(self):\n",
        "    return \"Woof\"\n",
        "class Gato(Mascota):\n",
        "  def hable(self):\n",
        "    return \"Miau\"\n",
        "class ave(Mascota):\n",
        "  def hable(self):\n",
        "    return \"pio\"\n",
        "class pez(Mascota):\n",
        "  def hable(self):\n",
        "    return \"glup\"\n"
      ],
      "metadata": {
        "id": "sM_dSQXRmMeW"
      },
      "execution_count": null,
      "outputs": []
    },
    {
      "cell_type": "code",
      "source": [
        "Mascotas=[Perro(), Gato(), ave(), pez()]\n"
      ],
      "metadata": {
        "id": "7ERb6zrVoAhr"
      },
      "execution_count": null,
      "outputs": []
    },
    {
      "cell_type": "code",
      "source": [
        "Mascotas"
      ],
      "metadata": {
        "colab": {
          "base_uri": "https://localhost:8080/"
        },
        "id": "MvzhaTt-ocji",
        "outputId": "f2afb880-87b4-439b-8a42-d5d803de30af"
      },
      "execution_count": null,
      "outputs": [
        {
          "output_type": "execute_result",
          "data": {
            "text/plain": [
              "[<__main__.Perro at 0x79dc6e701780>,\n",
              " <__main__.Gato at 0x79dc6e703220>,\n",
              " <__main__.ave at 0x79dc6e702110>,\n",
              " <__main__.pez at 0x79dc6e703340>]"
            ]
          },
          "metadata": {},
          "execution_count": 23
        }
      ]
    },
    {
      "cell_type": "code",
      "source": [
        "for Mascota in Mascotas :\n",
        "  print(Mascota.hable())"
      ],
      "metadata": {
        "colab": {
          "base_uri": "https://localhost:8080/"
        },
        "id": "FIBmzg-DofLq",
        "outputId": "f48dcdc1-ec9b-44b0-9a64-5532d44d95cf"
      },
      "execution_count": null,
      "outputs": [
        {
          "output_type": "stream",
          "name": "stdout",
          "text": [
            "Woof\n",
            "Miau\n",
            "pio\n",
            "glup\n"
          ]
        }
      ]
    },
    {
      "cell_type": "code",
      "source": [
        "class Persona:\n",
        "  def __init__(self, nombre, edad):\n",
        "    self.nombre = nombre\n",
        "    self.edad=edad"
      ],
      "metadata": {
        "id": "0wwEibzlpMt3"
      },
      "execution_count": null,
      "outputs": []
    },
    {
      "cell_type": "code",
      "source": [
        "Daniela = Persona(\"Daniela\", 21)"
      ],
      "metadata": {
        "id": "51WIplI4riks"
      },
      "execution_count": null,
      "outputs": []
    },
    {
      "cell_type": "code",
      "source": [
        "Daniela.nombre"
      ],
      "metadata": {
        "colab": {
          "base_uri": "https://localhost:8080/",
          "height": 35
        },
        "id": "TT2xALgirrMr",
        "outputId": "fe26205f-fbe2-4641-a9b7-79a6d755e394"
      },
      "execution_count": null,
      "outputs": [
        {
          "output_type": "execute_result",
          "data": {
            "text/plain": [
              "'Daniela'"
            ],
            "application/vnd.google.colaboratory.intrinsic+json": {
              "type": "string"
            }
          },
          "metadata": {},
          "execution_count": 33
        }
      ]
    },
    {
      "cell_type": "code",
      "source": [
        "Daniela.edad"
      ],
      "metadata": {
        "colab": {
          "base_uri": "https://localhost:8080/"
        },
        "id": "HP1yERvssWpY",
        "outputId": "3a6f4811-570f-4683-e3f8-50b08a5e04cc"
      },
      "execution_count": null,
      "outputs": [
        {
          "output_type": "execute_result",
          "data": {
            "text/plain": [
              "21"
            ]
          },
          "metadata": {},
          "execution_count": 35
        }
      ]
    }
  ]
}