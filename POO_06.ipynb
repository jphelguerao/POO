{
  "nbformat": 4,
  "nbformat_minor": 0,
  "metadata": {
    "colab": {
      "provenance": []
    },
    "kernelspec": {
      "name": "python3",
      "display_name": "Python 3"
    },
    "language_info": {
      "name": "python"
    }
  },
  "cells": [
    {
      "cell_type": "code",
      "execution_count": null,
      "metadata": {
        "id": "qNKg_W6rkQUg"
      },
      "outputs": [],
      "source": [
        "def Milanesi(a,b,c):\n",
        "  x=a+b*c\n",
        "  return x"
      ]
    },
    {
      "cell_type": "code",
      "source": [
        "Milanesi(1,2,3)"
      ],
      "metadata": {
        "colab": {
          "base_uri": "https://localhost:8080/"
        },
        "id": "UEep36lYpR5G",
        "outputId": "ed6638c1-356a-4dda-a23b-a08efaae2da7"
      },
      "execution_count": null,
      "outputs": [
        {
          "output_type": "execute_result",
          "data": {
            "text/plain": [
              "7"
            ]
          },
          "metadata": {},
          "execution_count": 2
        }
      ]
    },
    {
      "cell_type": "code",
      "source": [
        "#vamos a sacar una definicion que calcule la inversa de una matriz\n",
        "def inv_matrix(M):\n",
        "  import numpy as np\n",
        "  x= np.linalg.inv(M)\n",
        "  return x"
      ],
      "metadata": {
        "id": "Kl9cOTyzpXRl"
      },
      "execution_count": null,
      "outputs": []
    },
    {
      "cell_type": "code",
      "source": [
        "import numpy as np"
      ],
      "metadata": {
        "id": "FkaMQ0vVrtqC"
      },
      "execution_count": null,
      "outputs": []
    },
    {
      "cell_type": "code",
      "source": [
        "matriz=np.random.randint(low=0,high=20,size=(5,5))"
      ],
      "metadata": {
        "id": "lvyyhtnCq7FC"
      },
      "execution_count": null,
      "outputs": []
    },
    {
      "cell_type": "code",
      "source": [
        "inv_matrix(matriz )"
      ],
      "metadata": {
        "colab": {
          "base_uri": "https://localhost:8080/"
        },
        "id": "KUDn8igLrrbm",
        "outputId": "8942367a-9664-43ca-d481-dd4ca0db4286"
      },
      "execution_count": null,
      "outputs": [
        {
          "output_type": "execute_result",
          "data": {
            "text/plain": [
              "array([[-0.04758466,  0.04912759, -0.0025442 ,  0.07465161,  0.0170379 ],\n",
              "       [-0.03556128,  0.05378921,  0.02845395, -0.05424881,  0.04170839],\n",
              "       [ 0.07781954, -0.08655188, -0.00687753, -0.08207081,  0.0525089 ],\n",
              "       [ 0.02537219, -0.08026525,  0.07189813,  0.1419825 , -0.10084041],\n",
              "       [ 0.0686112 ,  0.00953663, -0.07566929, -0.07003923, -0.0093889 ]])"
            ]
          },
          "metadata": {},
          "execution_count": 7
        }
      ]
    },
    {
      "cell_type": "code",
      "source": [
        "matriz.shape"
      ],
      "metadata": {
        "colab": {
          "base_uri": "https://localhost:8080/"
        },
        "id": "nWwQY6k1z38i",
        "outputId": "f3c66dcd-1c6e-4841-ea03-25fd11e7f54f"
      },
      "execution_count": null,
      "outputs": [
        {
          "output_type": "execute_result",
          "data": {
            "text/plain": [
              "(5, 5)"
            ]
          },
          "metadata": {},
          "execution_count": 9
        }
      ]
    },
    {
      "cell_type": "code",
      "source": [],
      "metadata": {
        "id": "gEdqubkbz6Oo"
      },
      "execution_count": null,
      "outputs": []
    }
  ]
}