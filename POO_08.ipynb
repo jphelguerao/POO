{
  "nbformat": 4,
  "nbformat_minor": 0,
  "metadata": {
    "colab": {
      "provenance": []
    },
    "kernelspec": {
      "name": "python3",
      "display_name": "Python 3"
    },
    "language_info": {
      "name": "python"
    }
  },
  "cells": [
    {
      "cell_type": "code",
      "source": [
        "class Animal():\n",
        "  def __init__(self):\n",
        "    print(\"animal class creada\")\n",
        "  def guess_who(self):\n",
        "    print(\"soy un animalito\")\n",
        "  def sleep(self):\n",
        "    print(\"estoy durmiendo\")\n",
        ""
      ],
      "metadata": {
        "id": "O7CeK5IHsZYV"
      },
      "execution_count": 1,
      "outputs": []
    },
    {
      "cell_type": "code",
      "source": [
        "my_animal=Animal()"
      ],
      "metadata": {
        "colab": {
          "base_uri": "https://localhost:8080/"
        },
        "id": "_ZtLuCM2sI1l",
        "outputId": "c91a5f9b-29f0-4ada-ba5f-43076a452997"
      },
      "execution_count": 3,
      "outputs": [
        {
          "output_type": "stream",
          "name": "stdout",
          "text": [
            "animal class creada\n"
          ]
        }
      ]
    },
    {
      "cell_type": "code",
      "source": [
        "my_animal.sleep()"
      ],
      "metadata": {
        "colab": {
          "base_uri": "https://localhost:8080/"
        },
        "id": "T4WmL2aMsPC6",
        "outputId": "a1677516-18db-4ff6-9b5f-0d57aa371452"
      },
      "execution_count": 4,
      "outputs": [
        {
          "output_type": "stream",
          "name": "stdout",
          "text": [
            "estoy durmiendo\n"
          ]
        }
      ]
    },
    {
      "cell_type": "code",
      "source": [
        "my_animal.__init__()"
      ],
      "metadata": {
        "colab": {
          "base_uri": "https://localhost:8080/"
        },
        "id": "EMHPq4xlthSp",
        "outputId": "8e592045-4e7a-4899-8c7b-c8fb6aeb48b1"
      },
      "execution_count": 5,
      "outputs": [
        {
          "output_type": "stream",
          "name": "stdout",
          "text": [
            "animal class creada\n"
          ]
        }
      ]
    },
    {
      "cell_type": "code",
      "source": [
        "my_animal.guess_who()"
      ],
      "metadata": {
        "colab": {
          "base_uri": "https://localhost:8080/"
        },
        "id": "tG7dnI70txzU",
        "outputId": "ec76fac9-b2e7-4019-f894-c773c40c950c"
      },
      "execution_count": 6,
      "outputs": [
        {
          "output_type": "stream",
          "name": "stdout",
          "text": [
            "soy un animalito\n"
          ]
        }
      ]
    },
    {
      "cell_type": "code",
      "source": [
        "class Cat(Animal):\n",
        "  def __init__(self):\n",
        "    Animal.__init__(self)\n",
        "    print(\"Cat class creada\")\n",
        "  def guess_who(self):\n",
        "    print(\"soy un gatito\")\n",
        "  def meow(self):\n",
        "    print(\"MEOWW!\")\n"
      ],
      "metadata": {
        "id": "odRnlR0At16s"
      },
      "execution_count": 8,
      "outputs": []
    },
    {
      "cell_type": "code",
      "source": [
        "my_cat=Cat()"
      ],
      "metadata": {
        "colab": {
          "base_uri": "https://localhost:8080/"
        },
        "id": "VuwtAuE-vZE7",
        "outputId": "c328aa2f-0bcb-4701-a489-23c6f1e484ba"
      },
      "execution_count": 9,
      "outputs": [
        {
          "output_type": "stream",
          "name": "stdout",
          "text": [
            "animal class creada\n",
            "Cat class creada\n"
          ]
        }
      ]
    },
    {
      "cell_type": "code",
      "source": [
        "my_cat.guess_who()"
      ],
      "metadata": {
        "colab": {
          "base_uri": "https://localhost:8080/"
        },
        "id": "2Kud3TCQv_Xx",
        "outputId": "699b13a5-3fb8-4783-9610-24f988c87317"
      },
      "execution_count": 10,
      "outputs": [
        {
          "output_type": "stream",
          "name": "stdout",
          "text": [
            "soy un gatito\n"
          ]
        }
      ]
    },
    {
      "cell_type": "code",
      "source": [
        "my_cat.meow()"
      ],
      "metadata": {
        "colab": {
          "base_uri": "https://localhost:8080/"
        },
        "id": "uMVB7D5FwFGN",
        "outputId": "18770fbc-e7ab-4aea-92c4-f8ee49ec6016"
      },
      "execution_count": 11,
      "outputs": [
        {
          "output_type": "stream",
          "name": "stdout",
          "text": [
            "MEOWW!\n"
          ]
        }
      ]
    },
    {
      "cell_type": "code",
      "source": [
        "class doggy():\n",
        "  def __init__(self, name, raza):\n",
        "    self.name=name\n",
        "    self.raza=raza\n",
        "  def speak(self):\n",
        "    return self.name +\" que es un \"+ self.raza + \" dice WOOF\"\n"
      ],
      "metadata": {
        "id": "xWkxGKDawIW5"
      },
      "execution_count": 12,
      "outputs": []
    },
    {
      "cell_type": "code",
      "source": [
        "class Catty():\n",
        "  def __init__(self, name, raza):\n",
        "    self.name=name\n",
        "    self.raza=raza\n",
        "  def speak(self):\n",
        "    return self.name +\"que es un \"+ self.raza + \" dice MEOW\""
      ],
      "metadata": {
        "id": "WUW2qEWNyRXh"
      },
      "execution_count": 13,
      "outputs": []
    },
    {
      "cell_type": "code",
      "source": [
        "my_dog=doggy(\"pluto\", \"labrador\")\n",
        "my_cat=Catty(\"pedro\", \"egipcio\")"
      ],
      "metadata": {
        "id": "uRnlvq5Sy-CU"
      },
      "execution_count": 14,
      "outputs": []
    },
    {
      "cell_type": "code",
      "source": [
        "my_cat.speak()"
      ],
      "metadata": {
        "colab": {
          "base_uri": "https://localhost:8080/",
          "height": 35
        },
        "id": "KGNMF5tL0jnT",
        "outputId": "0a76f48b-b180-4cff-fe3a-b3233e09f9f6"
      },
      "execution_count": 15,
      "outputs": [
        {
          "output_type": "execute_result",
          "data": {
            "text/plain": [
              "'pedroque es un egipcio dice MEOW'"
            ],
            "application/vnd.google.colaboratory.intrinsic+json": {
              "type": "string"
            }
          },
          "metadata": {},
          "execution_count": 15
        }
      ]
    },
    {
      "cell_type": "code",
      "source": [
        "my_dog.speak()"
      ],
      "metadata": {
        "colab": {
          "base_uri": "https://localhost:8080/",
          "height": 35
        },
        "id": "wzz5WIgVzI-n",
        "outputId": "19ece364-4c2e-4ced-ede8-b7b659fdadb6"
      },
      "execution_count": 16,
      "outputs": [
        {
          "output_type": "execute_result",
          "data": {
            "text/plain": [
              "'pluto que es un labrador dice WOOF'"
            ],
            "application/vnd.google.colaboratory.intrinsic+json": {
              "type": "string"
            }
          },
          "metadata": {},
          "execution_count": 16
        }
      ]
    }
  ]
}