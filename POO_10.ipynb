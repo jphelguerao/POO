{
  "nbformat": 4,
  "nbformat_minor": 0,
  "metadata": {
    "colab": {
      "provenance": []
    },
    "kernelspec": {
      "name": "python3",
      "display_name": "Python 3"
    },
    "language_info": {
      "name": "python"
    }
  },
  "cells": [
    {
      "cell_type": "code",
      "execution_count": null,
      "metadata": {
        "id": "W6nH61HV0k-E"
      },
      "outputs": [],
      "source": [
        " import numpy as np\n",
        " import matplotlib.pyplot as plt\n",
        " import cvxopt as opt\n",
        " from cvxopt import blas, solvers\n",
        " import pandas as pd\n",
        " import numpy as np\n",
        " np.random.seed(123)"
      ]
    },
    {
      "cell_type": "code",
      "source": [],
      "metadata": {
        "id": "YphE8USr79_n"
      },
      "execution_count": null,
      "outputs": []
    }
  ]
}